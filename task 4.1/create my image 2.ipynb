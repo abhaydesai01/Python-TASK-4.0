{
 "cells": [
  {
   "cell_type": "code",
   "execution_count": null,
   "metadata": {},
   "outputs": [],
   "source": [
    "import numpy\n",
    "import cv2\n",
    "w,h=512,512\n",
    "A=numpy.zeros((512,512,3) ,dtype=numpy.uint8)\n",
    "for i in range(h):\n",
    "    for j in range(w):\n",
    "            A[i,j]=[i%182,j%298,(i+j)%256]  #assigning colours\n",
    "cv2.imshow(\"photo2\", A)\n",
    "cv2.waitKey()\n",
    "cv2.destroyAllWindows()"
   ]
  }
 ],
 "metadata": {
  "kernelspec": {
   "display_name": "Python 3",
   "language": "python",
   "name": "python3"
  },
  "language_info": {
   "codemirror_mode": {
    "name": "ipython",
    "version": 3
   },
   "file_extension": ".py",
   "mimetype": "text/x-python",
   "name": "python",
   "nbconvert_exporter": "python",
   "pygments_lexer": "ipython3",
   "version": "3.8.5"
  }
 },
 "nbformat": 4,
 "nbformat_minor": 4
}
